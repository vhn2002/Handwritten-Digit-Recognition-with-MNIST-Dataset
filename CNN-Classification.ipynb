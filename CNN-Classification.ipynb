{
  "nbformat": 4,
  "nbformat_minor": 0,
  "metadata": {
    "colab": {
      "provenance": []
    },
    "kernelspec": {
      "name": "python3",
      "display_name": "Python 3"
    },
    "language_info": {
      "name": "python"
    }
  },
  "cells": [
    {
      "cell_type": "code",
      "execution_count": null,
      "metadata": {
        "id": "Vdq9nxUA8WvA"
      },
      "outputs": [],
      "source": [
        "# 1. Thêm các thư viện cần thiết\n",
        "import numpy as np\n",
        "import matplotlib.pyplot as plt\n",
        "from keras.models import Sequential\n",
        "from keras.layers import Dense, Dropout, Activation, Flatten\n",
        "from keras.layers import Conv2D, MaxPooling2D\n",
        "from keras.utils import np_utils\n",
        "from keras.datasets import mnist"
      ]
    },
    {
      "cell_type": "code",
      "source": [
        "# 2. Load dữ liệu MNIST\n",
        "(X_train, y_train), (X_test, y_test) = mnist.load_data()\n",
        "X_val, y_val = X_train[50000:60000,:], y_train[50000:60000]\n",
        "X_train, y_train = X_train[:50000,:], y_train[:50000]\n",
        "print(X_train.shape)"
      ],
      "metadata": {
        "colab": {
          "base_uri": "https://localhost:8080/"
        },
        "id": "aIJ4VZU-8m3I",
        "outputId": "14c036d1-edec-496f-b81c-32a4e8e0aec9"
      },
      "execution_count": null,
      "outputs": [
        {
          "output_type": "stream",
          "name": "stdout",
          "text": [
            "Downloading data from https://storage.googleapis.com/tensorflow/tf-keras-datasets/mnist.npz\n",
            "11490434/11490434 [==============================] - 0s 0us/step\n",
            "(50000, 28, 28)\n"
          ]
        }
      ]
    },
    {
      "cell_type": "code",
      "source": [
        "# 3. Reshape lại dữ liệu cho đúng kích thước mà keras yêu cầu\n",
        "X_train = X_train.reshape(X_train.shape[0], 28, 28, 1)\n",
        "X_val = X_val.reshape(X_val.shape[0], 28, 28, 1)\n",
        "X_test = X_test.reshape(X_test.shape[0], 28, 28, 1)"
      ],
      "metadata": {
        "id": "gw8RnHzp8oTC"
      },
      "execution_count": null,
      "outputs": []
    },
    {
      "cell_type": "code",
      "source": [
        "# 4. One hot encoding label (Y)\n",
        "Y_train = np_utils.to_categorical(y_train, 10)\n",
        "Y_val = np_utils.to_categorical(y_val, 10)\n",
        "Y_test = np_utils.to_categorical(y_test, 10)\n",
        "print('Dữ liệu y ban đầu ', y_train[0])\n",
        "print('Dữ liệu y sau one-hot encoding ',Y_train[0])"
      ],
      "metadata": {
        "colab": {
          "base_uri": "https://localhost:8080/"
        },
        "id": "2tPpFXlb_F8j",
        "outputId": "043abc28-4e9b-4445-b641-9e87a5da26c4"
      },
      "execution_count": null,
      "outputs": [
        {
          "output_type": "stream",
          "name": "stdout",
          "text": [
            "Dữ liệu y ban đầu  5\n",
            "Dữ liệu y sau one-hot encoding  [0. 0. 0. 0. 0. 1. 0. 0. 0. 0.]\n"
          ]
        }
      ]
    },
    {
      "cell_type": "code",
      "source": [
        "# 5. Định nghĩa model\n",
        "model = Sequential()\n",
        "\n",
        "# Thêm Convolutional layer với 32 kernel, kích thước kernel 3*3\n",
        "# dùng hàm sigmoid làm activation và chỉ rõ input_shape cho layer đầu tiên\n",
        "model.add(Conv2D(32, (3, 3), activation='sigmoid', input_shape=(28,28,1)))\n",
        "\n",
        "# Thêm Convolutional layer\n",
        "model.add(Conv2D(32, (3, 3), activation='sigmoid'))\n",
        "\n",
        "# Thêm Max pooling layer\n",
        "model.add(MaxPooling2D(pool_size=(2,2)))\n",
        "\n",
        "# Flatten layer chuyển từ tensor sang vector\n",
        "model.add(Flatten())\n",
        "\n",
        "# Thêm Fully Connected layer với 128 nodes và dùng hàm sigmoid\n",
        "model.add(Dense(128, activation='sigmoid'))\n",
        "\n",
        "# Output layer với 10 node và dùng softmax function để chuyển sang xác xuất.\n",
        "model.add(Dense(10, activation='softmax'))\n",
        "# Compile model, chỉ rõ hàm loss_function nào được sử dụng, phương thức đùng để tối ưu hàm loss function.\n",
        "model.compile(loss='categorical_crossentropy',\n",
        "              optimizer='adam',\n",
        "              metrics=['accuracy'])"
      ],
      "metadata": {
        "id": "bVoNpF4f_U76"
      },
      "execution_count": null,
      "outputs": []
    },
    {
      "cell_type": "code",
      "source": [
        "# 7. Thực hiện train model với data\n",
        "H = model.fit(X_train, Y_train, validation_data=(X_val, Y_val),\n",
        "          batch_size=32, epochs=10, verbose=1)"
      ],
      "metadata": {
        "colab": {
          "base_uri": "https://localhost:8080/"
        },
        "id": "nuz6AFeR_pnD",
        "outputId": "00c64a31-ffc8-475a-b34f-89d840b810e6"
      },
      "execution_count": null,
      "outputs": [
        {
          "output_type": "stream",
          "name": "stdout",
          "text": [
            "Epoch 1/10\n",
            "1563/1563 [==============================] - 105s 66ms/step - loss: 0.2852 - accuracy: 0.9200 - val_loss: 0.0654 - val_accuracy: 0.9832\n",
            "Epoch 2/10\n",
            "1563/1563 [==============================] - 99s 63ms/step - loss: 0.0563 - accuracy: 0.9840 - val_loss: 0.0577 - val_accuracy: 0.9824\n",
            "Epoch 3/10\n",
            "1563/1563 [==============================] - 97s 62ms/step - loss: 0.0352 - accuracy: 0.9900 - val_loss: 0.0440 - val_accuracy: 0.9871\n",
            "Epoch 4/10\n",
            "1563/1563 [==============================] - 99s 63ms/step - loss: 0.0235 - accuracy: 0.9930 - val_loss: 0.0412 - val_accuracy: 0.9880\n",
            "Epoch 5/10\n",
            "1563/1563 [==============================] - 98s 63ms/step - loss: 0.0150 - accuracy: 0.9961 - val_loss: 0.0433 - val_accuracy: 0.9865\n",
            "Epoch 6/10\n",
            "1563/1563 [==============================] - 98s 63ms/step - loss: 0.0105 - accuracy: 0.9973 - val_loss: 0.0410 - val_accuracy: 0.9885\n",
            "Epoch 7/10\n",
            "1563/1563 [==============================] - 97s 62ms/step - loss: 0.0072 - accuracy: 0.9982 - val_loss: 0.0356 - val_accuracy: 0.9901\n",
            "Epoch 8/10\n",
            "1563/1563 [==============================] - 99s 63ms/step - loss: 0.0050 - accuracy: 0.9988 - val_loss: 0.0447 - val_accuracy: 0.9882\n",
            "Epoch 9/10\n",
            "1563/1563 [==============================] - 98s 62ms/step - loss: 0.0031 - accuracy: 0.9994 - val_loss: 0.0421 - val_accuracy: 0.9897\n",
            "Epoch 10/10\n",
            "1563/1563 [==============================] - 105s 68ms/step - loss: 0.0039 - accuracy: 0.9991 - val_loss: 0.0514 - val_accuracy: 0.9871\n"
          ]
        }
      ]
    },
    {
      "cell_type": "code",
      "source": [
        "#Vẽ đồ thị loss, accuracy của traning set và validation set\n",
        "fig = plt.figure()\n",
        "numOfEpoch = 10\n",
        "plt.plot(np.arange(0, numOfEpoch), H.history['loss'], label='training loss')\n",
        "plt.plot(np.arange(0, numOfEpoch), H.history['val_loss'], label='validation loss')\n",
        "plt.plot(np.arange(0, numOfEpoch), H.history['accuracy'], label='accuracy')\n",
        "plt.plot(np.arange(0, numOfEpoch), H.history['val_accuracy'], label='validation accuracy')\n",
        "plt.title('Accuracy and Loss')\n",
        "plt.xlabel('Epoch')\n",
        "plt.ylabel('Loss|Accuracy')\n",
        "plt.legend()"
      ],
      "metadata": {
        "colab": {
          "base_uri": "https://localhost:8080/",
          "height": 312
        },
        "id": "Z--P1lzHKzNk",
        "outputId": "1fab6684-f598-448c-f814-8ee622236095"
      },
      "execution_count": null,
      "outputs": [
        {
          "output_type": "execute_result",
          "data": {
            "text/plain": [
              "<matplotlib.legend.Legend at 0x7f4a7230abe0>"
            ]
          },
          "metadata": {},
          "execution_count": 7
        },
        {
          "output_type": "display_data",
          "data": {
            "text/plain": [
              "<Figure size 432x288 with 1 Axes>"
            ],
            "image/png": "[encoded data removed]"
          },
          "metadata": {
            "needs_background": "light"
          }
        }
      ]
    },
    {
      "cell_type": "code",
      "source": [
        "#  Đánh giá model với dữ liệu test set\n",
        "score = model.evaluate(X_test, Y_test, verbose=0)\n",
        "print(score)"
      ],
      "metadata": {
        "colab": {
          "base_uri": "https://localhost:8080/"
        },
        "id": "ChLfmg1UK6fD",
        "outputId": "5cb4b452-53ab-40ae-cb69-cd8aabe7e5fa"
      },
      "execution_count": null,
      "outputs": [
        {
          "output_type": "stream",
          "name": "stdout",
          "text": [
            "[0.04121463745832443, 0.9872000217437744]\n"
          ]
        }
      ]
    },
    {
      "cell_type": "code",
      "source": [
        "# Dự đoán ảnh\n",
        "plt.imshow(X_test[2000].reshape(28,28), cmap='gray')\n",
        "\n",
        "y_predict = model.predict(X_test[2000].reshape(1,28,28,1))\n",
        "print('Giá trị dự đoán: ', np.argmax(y_predict))"
      ],
      "metadata": {
        "colab": {
          "base_uri": "https://localhost:8080/",
          "height": 300
        },
        "id": "ZVfgcLqaLc5A",
        "outputId": "fb286a04-b294-445c-8a3f-197f26cb8c51"
      },
      "execution_count": null,
      "outputs": [
        {
          "output_type": "stream",
          "name": "stdout",
          "text": [
            "1/1 [==============================] - 0s 20ms/step\n",
            "Giá trị dự đoán:  6\n"
          ]
        },
        {
          "output_type": "display_data",
          "data": {
            "text/plain": [
              "<Figure size 432x288 with 1 Axes>"
            ],
            "image/png": "[encoded data removed]"
          },
          "metadata": {
            "needs_background": "light"
          }
        }
      ]
    }
  ]
}